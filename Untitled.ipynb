{
 "cells": [
  {
   "cell_type": "code",
   "execution_count": 1,
   "id": "behind-eating",
   "metadata": {},
   "outputs": [
    {
     "data": {
      "text/plain": [
       "'\\n@参数\\nalpha: float，可选(默认值为1.0)\\n加法(拉普拉斯/李德斯通)平滑参数(0表示无平滑)。\\nfit_prior: boolean，可选(默认=True)\\n仅用于训练集中单个类的边缘情况。\\nclass_prior:类数组，大小(n_classes，)，可选(默认=None)\\n类的先验概率。\\nnorm: boolean，可选(默认=False)\\n是否对权重执行第二次标准化。\\n\\n'"
      ]
     },
     "execution_count": 1,
     "metadata": {},
     "output_type": "execute_result"
    }
   ],
   "source": [
    "from sklearn import naive_bayes\n",
    "clf=naive_bayes.MultinomialNB()\n",
    "'''\n",
    "@参数\n",
    "alpha: float，可选(默认值为1.0)\n",
    "加法(拉普拉斯/李德斯通)平滑参数(0表示无平滑)。\n",
    "fit_prior: boolean，可选(默认=True)\n",
    "仅用于训练集中单个类的边缘情况。\n",
    "class_prior:类数组，大小(n_classes，)，可选(默认=None)\n",
    "类的先验概率。\n",
    "norm: boolean，可选(默认=False)\n",
    "是否对权重执行第二次标准化。\n",
    "\n",
    "'''"
   ]
  },
  {
   "cell_type": "code",
   "execution_count": 4,
   "id": "royal-washington",
   "metadata": {},
   "outputs": [
    {
     "name": "stdout",
     "output_type": "stream",
     "text": [
      "训练准确率:0.96\n",
      "测试准确率:0.96\n"
     ]
    }
   ],
   "source": [
    "# 导入科学计算工具\n",
    "import numpy as np\n",
    "# 导入鸢尾花数据集\n",
    "from sklearn.datasets import load_iris\n",
    "# 导入朴素贝叶斯\n",
    "from sklearn import naive_bayes\n",
    "\n",
    "# 加载鸢尾花数据集\n",
    "iris = load_iris()\n",
    "# 提取数据\n",
    "trainX = iris.data\n",
    "# 提取标签\n",
    "trainY = iris.target\n",
    "# 建立高斯分布的朴素贝叶斯模型\n",
    "clf=naive_bayes.GaussianNB()  #高斯分布，没有参数\n",
    "# 建立多项式分布的朴素贝叶斯模型\n",
    "# clf=naive_bayes.MultinomialNB()  #多项式分布\n",
    "\n",
    "# 训练模型\n",
    "clf.fit(trainX,trainY)\n",
    "# 输出准确率\n",
    "print (\"训练准确率:\" + str(clf.score(trainX,trainY)))\n",
    "print (\"测试准确率:\" + str(clf.score(trainX,trainY)))"
   ]
  }
 ],
 "metadata": {
  "kernelspec": {
   "display_name": "Python 3",
   "language": "python",
   "name": "python3"
  },
  "language_info": {
   "codemirror_mode": {
    "name": "ipython",
    "version": 3
   },
   "file_extension": ".py",
   "mimetype": "text/x-python",
   "name": "python",
   "nbconvert_exporter": "python",
   "pygments_lexer": "ipython3",
   "version": "3.6.12"
  }
 },
 "nbformat": 4,
 "nbformat_minor": 5
}
