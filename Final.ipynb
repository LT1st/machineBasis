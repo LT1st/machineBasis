{
 "cells": [
  {
   "cell_type": "code",
   "execution_count": null,
   "id": "turkish-finger",
   "metadata": {},
   "outputs": [],
   "source": []
  },
  {
   "cell_type": "code",
   "execution_count": 1,
   "id": "perfect-founder",
   "metadata": {},
   "outputs": [],
   "source": [
    "from sklearn.linear_model import LogisticRegression \n",
    "from sklearn.model_selection import train_test_split\n",
    "from sklearn.preprocessing import LabelEncoder\n",
    "from sklearn.neighbors import KNeighborsClassifier\n",
    "from sklearn import svm\n",
    "from sklearn import metrics \n",
    "from sklearn.tree import DecisionTreeClassifier"
   ]
  },
  {
   "cell_type": "code",
   "execution_count": 13,
   "id": "retained-price",
   "metadata": {},
   "outputs": [],
   "source": [
    "#環境配製\n",
    "#這個號機車耶LOL\n",
    "import random\n",
    "import numpy as np\n",
    "import pandas as pd\n",
    "from math import e\n",
    "from math import pow\n",
    "from sklearn import datasets\n",
    "import torch\n",
    "import sklearn\n",
    "DATA_PATH = './iris/'\n",
    "from sklearn.model_selection import train_test_split #对数据集进行切分\n",
    "from sklearn.naive_bayes import MultinomialNB  # 朴素贝叶斯网络模型"
   ]
  },
  {
   "cell_type": "code",
   "execution_count": 3,
   "id": "unexpected-finding",
   "metadata": {},
   "outputs": [],
   "source": [
    "#圖形化數據\n",
    "import matplotlib.pyplot as plt\n",
    "import seaborn as sns\n",
    "import plotly.express as px\n",
    "plt.style.use('fivethirtyeight')"
   ]
  },
  {
   "cell_type": "code",
   "execution_count": 4,
   "id": "advanced-syracuse",
   "metadata": {},
   "outputs": [],
   "source": [
    "#數據幾導入\n",
    "df = pd.read_csv(DATA_PATH + 'iris.csv')\n",
    "trainSet = pd.read_csv(DATA_PATH + 'trainset.csv')\n",
    "testSet = pd.read_csv(DATA_PATH + 'testset.csv')"
   ]
  },
  {
   "cell_type": "code",
   "execution_count": 14,
   "id": "supported-apollo",
   "metadata": {},
   "outputs": [],
   "source": [
    "#从样本构建特征集,载入特征和标签集.在进行机器学习之前，将数据集拆分为训练和测试数据集。\n",
    "#首先，使用标签编码将 3 种鸢尾花的品种名称转换为分类值（0, 1, 2）\n",
    "X = df[['Sepal.Length', 'Sepal.Width', 'Petal.Length', 'Petal.Width']]\n",
    "y = df['Species']\n",
    "X1 = trainSet[['Sepal.Length', 'Sepal.Width', 'Petal.Length', 'Petal.Width']]\n",
    "y1 = trainSet['Species']\n",
    "X2 = testSet[['Sepal.Length', 'Sepal.Width', 'Petal.Length', 'Petal.Width']]\n",
    "y2 = testSet['Species']"
   ]
  },
  {
   "cell_type": "code",
   "execution_count": 36,
   "id": "hispanic-replica",
   "metadata": {
    "scrolled": true
   },
   "outputs": [
    {
     "data": {
      "text/plain": [
       "pandas.core.frame.DataFrame"
      ]
     },
     "execution_count": 36,
     "metadata": {},
     "output_type": "execute_result"
    }
   ],
   "source": [
    "# 对标签集进行编码\n",
    "encoder = LabelEncoder()\n",
    "y = encoder.fit_transform(y)\n",
    "#print(X,y)\n",
    "type(X)"
   ]
  },
  {
   "cell_type": "code",
   "execution_count": 10,
   "id": "associate-miracle",
   "metadata": {
    "scrolled": true
   },
   "outputs": [
    {
     "name": "stdout",
     "output_type": "stream",
     "text": [
      "[0 0 0 0 0 0 0 0 0 0 0 0 0 0 0 0 0 0 0 0 0 0 0 0 0 0 0 0 0 0 0 0 0 0 0 0 0\n",
      " 0 0 0 1 1 1 1 1 1 1 1 1 1 1 1 1 1 1 1 1 1 1 1 1 1 1 1 1 1 1 1 1 1 1 1 1 1\n",
      " 1 1 1 1 1 1 2 2 2 2 2 2 2 2 2 2 2 2 2 2 2 2 2 2 2 2 2 2 2 2 2 2 2 2 2 2 2\n",
      " 2 2 2 2 2 2 2 2 2]\n"
     ]
    },
    {
     "data": {
      "text/plain": [
       "numpy.ndarray"
      ]
     },
     "execution_count": 10,
     "metadata": {},
     "output_type": "execute_result"
    }
   ],
   "source": [
    "# 对标签集进行编码\n",
    "encoder = LabelEncoder()\n",
    "y1 = encoder.fit_transform(y1)\n",
    "print(y1)\n",
    "type(y1)"
   ]
  },
  {
   "cell_type": "code",
   "execution_count": 76,
   "id": "biblical-butterfly",
   "metadata": {
    "scrolled": true
   },
   "outputs": [
    {
     "name": "stdout",
     "output_type": "stream",
     "text": [
      "[0.16696936 0.26783847 0.18370044 0.2492316  0.21716863 0.21688551\n",
      " 0.15538461 0.18883343 0.14963235 0.1734582  0.48955792 0.49787158\n",
      " 0.49323353 0.47727058 0.4909283  0.49515932 0.49405174 0.49997297\n",
      " 0.4727187  0.49312953 0.45669893 0.47439812 0.46364966 0.45989462\n",
      " 0.45495308 0.46664274 0.46933268 0.47659063 0.46387228 0.47646131]\n",
      "[0.09369333 0.177876   0.10908116 0.15299631 0.12607877 0.13163482\n",
      " 0.08421675 0.11144836 0.08005987 0.09827764 0.46458651 0.45911355\n",
      " 0.44174391 0.4225137  0.45892224 0.43534466 0.44849416 0.44110643\n",
      " 0.40414987 0.44857954 0.53730706 0.51503481 0.52478213 0.53414423\n",
      " 0.53960014 0.52452754 0.51840671 0.51046954 0.5274033  0.50720551]\n",
      "[[0.73933731 0.16696936 0.09369333]\n",
      " [0.55428553 0.26783847 0.177876  ]\n",
      " [0.7072184  0.18370044 0.10908116]\n",
      " [0.59777209 0.2492316  0.15299631]\n",
      " [0.6567526  0.21716863 0.12607877]\n",
      " [0.65147966 0.21688551 0.13163482]\n",
      " [0.76039864 0.15538461 0.08421675]\n",
      " [0.69971822 0.18883343 0.11144836]\n",
      " [0.77030778 0.14963235 0.08005987]\n",
      " [0.72826415 0.1734582  0.09827764]\n",
      " [0.04585557 0.48955792 0.46458651]\n",
      " [0.04301488 0.49787158 0.45911355]\n",
      " [0.06502256 0.49323353 0.44174391]\n",
      " [0.10021572 0.47727058 0.4225137 ]\n",
      " [0.05014946 0.4909283  0.45892224]\n",
      " [0.06949602 0.49515932 0.43534466]\n",
      " [0.0574541  0.49405174 0.44849416]\n",
      " [0.0589206  0.49997297 0.44110643]\n",
      " [0.12313143 0.4727187  0.40414987]\n",
      " [0.05829093 0.49312953 0.44857954]\n",
      " [0.00599401 0.45669893 0.53730706]\n",
      " [0.01056707 0.47439812 0.51503481]\n",
      " [0.01156821 0.46364966 0.52478213]\n",
      " [0.00596115 0.45989462 0.53414423]\n",
      " [0.00544678 0.45495308 0.53960014]\n",
      " [0.00882973 0.46664274 0.52452754]\n",
      " [0.01226061 0.46933268 0.51840671]\n",
      " [0.01293982 0.47659063 0.51046954]\n",
      " [0.00872442 0.46387228 0.5274033 ]\n",
      " [0.01633318 0.47646131 0.50720551]]\n",
      "[40. 40. 40.]\n",
      "MultinomialNB()\n"
     ]
    },
    {
     "data": {
      "text/plain": [
       "numpy.ndarray"
      ]
     },
     "execution_count": 76,
     "metadata": {},
     "output_type": "execute_result"
    }
   ],
   "source": [
    "clf = sklearn.naive_bayes.MultinomialNB()  # 建立朴素贝叶斯网络.MultinomialNB()\n",
    "clf.fit(X1, y1)  # 带入训练集训练模型\n",
    "pre = clf.predict(X2)  # 预测测试集中特征矩阵所属的类别 进行预测\n",
    "#y_pred=gns.predict(xtest)\n",
    "# 导出预测概率\n",
    "#y_prob=clf.predict_proba(X2)[:,1]\n",
    "print(clf.predict_proba(X2)[:,1])\n",
    "print(clf.predict_proba(X2)[:,2])\n",
    "print(clf.predict_proba(X2))\n",
    "#print(clf.class_prior_)\n",
    "#print(clf.priors)\n",
    "print(clf.class_count_)\n",
    "#print(clf.theta_)\n",
    "print(clf)\n",
    "#print(clf.predict_proba(X2))\n",
    "np.savetxt(\"./iris/result_all.csv\", clf.predict_proba(X2), delimiter=',')\n",
    "#同priors一样，都是获取各个类标记对应的先验概率，\n",
    "#区别在于priors属性返回列表，class_prior_返回的是数组\n",
    "type(y_prob)\n",
    "#    class_prior   priors \n",
    "#np.savetxt(\"./iris/prob.csv\", y_prob, delimiter=',')\n",
    "#np.savetxt(\"./iris/result.csv\", pre, delimiter=',')\n",
    "#print('预测集标签')\n",
    "#print(y2)\n",
    "#print('预测结果',pre)\n",
    "#print('数据格式',type(pre))"
   ]
  },
  {
   "cell_type": "code",
   "execution_count": 41,
   "id": "certain-warner",
   "metadata": {},
   "outputs": [
    {
     "data": {
      "image/png": "[encoded data removed]",
      "text/plain": [
       "<Figure size 432x288 with 1 Axes>"
      ]
     },
     "metadata": {},
     "output_type": "display_data"
    }
   ],
   "source": [
    "#在我们的横纵表坐标上，概率是由顺序的（由小到大），为了让图形规整一些，\n",
    "#我们要先对预测概率和真实标签按照预测\n",
    "#概率进行一个排序，这一点我们通过DataFrame来实现\n",
    "df=pd.DataFrame({\"ytrue\":y2[:500],\"probability\":y_prob[:500]})\n",
    " \n",
    "# 对df中的数据进行排序\n",
    "df=df.sort_values(by=\"probability\")\n",
    "# 现在恢复我们的索引\n",
    "df.index=range(df.shape[0])\n",
    "\n",
    "fig = plt.figure()\n",
    "ax1 = plt.subplot()\n",
    "ax1.plot([0, 1], [0, 1], \"k:\", label=\"Perfectly calibrated\") #得做一条对角线来对比呀\n",
    "ax1.plot(df[\"probability\"],df[\"ytrue\"],\"s-\",label=\"%s (%1.3f)\" % (\"Bayes\", 3))\n",
    "ax1.set_ylabel(\"True label\")\n",
    "ax1.set_xlabel(\"predcited probability\")\n",
    "ax1.set_ylim([-0.05, 1.05])\n",
    "ax1.legend()\n",
    "plt.show()"
   ]
  },
  {
   "cell_type": "markdown",
   "id": "fresh-complement",
   "metadata": {},
   "source": [
    "from sklearn.calibration import calibration_curve\n",
    "ytest = y2\n",
    "# 分成10箱，ytest代表是真实标签，y_prob标示返回的概率\n",
    "trueproba,predproba=calibration_curve(ytest,y_prob,n_bins=10)\n",
    "# predproba代表每一个箱子中概率的均值\n",
    "# trueproba代表每一个箱子中少数类的占比，均值\n",
    "trueproba\n",
    "# 我们要求分10个箱子，所以会返回10个数字\n",
    " \n",
    "#紧接着我们就可以画图了\n",
    "fig = plt.figure()\n",
    "ax1 = plt.subplot()\n",
    "ax1.plot([0, 1], [0, 1], \"k:\", label=\"Perfectly calibrated\") #得做一条对角线来对比呀\n",
    "ax1.plot(predproba,trueproba,\"s-\",label=\"%s (%1.3f)\" % (\"Bayes\", 10))# 10代表是分10个箱子\n",
    "ax1.set_ylabel(\"True label\")\n",
    "ax1.set_xlabel(\"predcited probability\")\n",
    "ax1.set_ylim([-0.05, 1.05])\n",
    "ax1.legend()\n",
    "plt.show()"
   ]
  },
  {
   "cell_type": "markdown",
   "id": "cubic-berry",
   "metadata": {},
   "source": [
    "https://scikit-learn.org/stable/modules/classes.html#module-sklearn.naive_bayes"
   ]
  },
  {
   "cell_type": "code",
   "execution_count": 19,
   "id": "personal-receptor",
   "metadata": {},
   "outputs": [
    {
     "name": "stdout",
     "output_type": "stream",
     "text": [
      "GaussianNB Training Score: 0.94\n",
      "GaussianNB Testing Score: 1.00\n"
     ]
    },
    {
     "data": {
      "text/plain": [
       "<bound method BaseEstimator.get_params of MultinomialNB()>"
      ]
     },
     "execution_count": 19,
     "metadata": {},
     "output_type": "execute_result"
    }
   ],
   "source": [
    "print('GaussianNB Training Score: %.2f' % clf.score(X1, y1))\n",
    "print('GaussianNB Testing Score: %.2f' % clf.score(X2, y2))\n",
    "clf.get_params"
   ]
  },
  {
   "cell_type": "markdown",
   "id": "adopted-likelihood",
   "metadata": {},
   "source": [
    "gns=GaussianNB()\n",
    "gns=gns.fit(xtrain,ytrain)\n",
    "#导出分类的结果\n",
    "y_pred=gns.predict(xtest)\n",
    "#出预测概率\n",
    "y_prob=gns.predict_proba(xtest)[:,1]"
   ]
  },
  {
   "cell_type": "markdown",
   "id": "superior-metropolitan",
   "metadata": {},
   "source": [
    "#用于抄函数\n",
    "from sklearn.naive_bayes import GaussianNB\n",
    "model = GaussianNB()\n",
    "model.fit(Xtrain, ytrain)\n",
    "y_model = model.predict(Xtest) # 进行预测\n",
    "cls = naive_bayes.GaussianNB()\n",
    "    cls.fit(Train_X, Train_y)\n",
    "     print('GaussianNB Training Score: %.2f' % cls.score(X_train, y_train))\n",
    "    print('GaussianNB Testing Score: %.2f' % cls.score(X_test, y_test))"
   ]
  }
 ],
 "metadata": {
  "kernelspec": {
   "display_name": "Python 3",
   "language": "python",
   "name": "python3"
  },
  "language_info": {
   "codemirror_mode": {
    "name": "ipython",
    "version": 3
   },
   "file_extension": ".py",
   "mimetype": "text/x-python",
   "name": "python",
   "nbconvert_exporter": "python",
   "pygments_lexer": "ipython3",
   "version": "3.6.12"
  }
 },
 "nbformat": 4,
 "nbformat_minor": 5
}
